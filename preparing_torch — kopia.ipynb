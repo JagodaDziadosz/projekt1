{
 "cells": [
  {
   "cell_type": "code",
   "execution_count": 1,
   "metadata": {},
   "outputs": [],
   "source": [
    "import os\n",
    "import cv2\n",
    "import numpy as np\n",
    "from tqdm import tqdm"
   ]
  },
  {
   "cell_type": "code",
   "execution_count": 3,
   "metadata": {},
   "outputs": [],
   "source": [
    "path = r'C:\\Users\\Lenovo\\Desktop\\ML\\Projekt\\data'\n",
    "class PvsRBC():\n",
    "    P = r'C:\\Users\\Lenovo\\Desktop\\ML\\Projekt\\data\\Plasmodium'\n",
    "    RBC = r'C:\\Users\\Lenovo\\Desktop\\ML\\Projekt\\RBC'\n",
    "    LABELS = {P: 0, RBC: 1}\n",
    "    training_data = []\n",
    "    \n",
    "    P_count = 0\n",
    "    RBC_count = 0\n",
    "    \n",
    "    def make_training_data(self):\n",
    "        for label in self.LABELS:\n",
    "            for f in tqdm(os.listdir(label)):\n",
    "                if \"png\" in f:\n",
    "                    try:\n",
    "                        path = os.path.join(label, f)\n",
    "                        img = cv2.imread(path)\n",
    "                        self.training_data.append([np.array(img), np.eye(2)[self.LABELS[label]]])  # one_hot P: [1, 0], RBC: [0, 1] \n",
    "                    except Exception as e:\n",
    "                        pass\n",
    "        if label == self.P:\n",
    "            self.P_count += 1\n",
    "        elif label == self.RBC:\n",
    "            self.RBC_count += 1\n",
    "            "
   ]
  },
  {
   "cell_type": "code",
   "execution_count": null,
   "metadata": {},
   "outputs": [],
   "source": [
    "np.random.shuffle(PvsRBC.training_data)\n",
    "np.save(\"training_data.npy\", PvsRBC.training_data)\n",
    "\n",
    "value = True\n",
    "if value:\n",
    "    PvsRBC = PvsRBC()\n",
    "    PvsRBC.make_training_data()\n",
    "    \n",
    "print('P:', PvsRBC.P_count)\n",
    "print('RBC:', PvsRBC.RBC_count)"
   ]
  },
  {
   "cell_type": "code",
   "execution_count": null,
   "metadata": {},
   "outputs": [],
   "source": [
    "import torch\n",
    "\n",
    "X = torch.Tensor([i[0] for i in training_data]).view(-1,32,32)\n",
    "X = X/255.0\n",
    "y = torch.Tensor([i[1] for i in training_data])"
   ]
  },
  {
   "cell_type": "code",
   "execution_count": null,
   "metadata": {},
   "outputs": [],
   "source": [
    "import matplotlib.pyplot as plt\n",
    "\n",
    "plt.imshow(X[0])\n",
    "plt.imshow(X[5][0])\n",
    "plt.show()\n",
    "print(y[0])"
   ]
  }
 ],
 "metadata": {
  "kernelspec": {
   "display_name": "Python 3",
   "language": "python",
   "name": "python3"
  },
  "language_info": {
   "codemirror_mode": {
    "name": "ipython",
    "version": 3
   },
   "file_extension": ".py",
   "mimetype": "text/x-python",
   "name": "python",
   "nbconvert_exporter": "python",
   "pygments_lexer": "ipython3",
   "version": "3.7.9"
  }
 },
 "nbformat": 4,
 "nbformat_minor": 4
}
